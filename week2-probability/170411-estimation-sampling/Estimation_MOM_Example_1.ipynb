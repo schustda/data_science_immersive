{
 "cells": [
  {
   "cell_type": "markdown",
   "metadata": {},
   "source": [
    "## Imports"
   ]
  },
  {
   "cell_type": "code",
   "execution_count": 1,
   "metadata": {
    "collapsed": false
   },
   "outputs": [],
   "source": [
    "import matplotlib.pyplot as plt\n",
    "import seaborn\n",
    "import numpy as np\n",
    "%matplotlib inline\n",
    "\n",
    "from scipy import stats"
   ]
  },
  {
   "cell_type": "markdown",
   "metadata": {},
   "source": [
    "### How about some legible text in our graph?"
   ]
  },
  {
   "cell_type": "code",
   "execution_count": 2,
   "metadata": {
    "collapsed": true
   },
   "outputs": [],
   "source": [
    "import matplotlib as mpl\n",
    "mpl.rcParams.update({\n",
    "    'font.size'           : 20.0,\n",
    "    'axes.titlesize'      : 'large',\n",
    "    'axes.labelsize'      : 'medium',\n",
    "    'xtick.labelsize'     : 'medium',\n",
    "    'ytick.labelsize'     : 'medium',\n",
    "    'legend.fontsize'     : 'large',\n",
    "})"
   ]
  },
  {
   "cell_type": "markdown",
   "metadata": {},
   "source": [
    "### Calculate moment of interest for poisson distribution"
   ]
  },
  {
   "cell_type": "code",
   "execution_count": 6,
   "metadata": {
    "collapsed": false
   },
   "outputs": [
    {
     "name": "stdout",
     "output_type": "stream",
     "text": [
      "The mean (and variance) of the poisson distribution is 5.4286.\n"
     ]
    }
   ],
   "source": [
    "mu = (6 + 4 + 7 + 4 + 9 + 3 + 5) / 7 \n",
    "print (\"The mean (and variance) of the poisson distribution is {0:0.4f}.\".format(mu))"
   ]
  },
  {
   "cell_type": "markdown",
   "metadata": {},
   "source": [
    "### Discrete x values that cover most of the poisson cdf using the percentile point function"
   ]
  },
  {
   "cell_type": "code",
   "execution_count": 8,
   "metadata": {
    "collapsed": false
   },
   "outputs": [
    {
     "name": "stdout",
     "output_type": "stream",
     "text": [
      "[  0.   1.   2.   3.   4.   5.   6.   7.   8.   9.  10.  11.  12.  13.]\n"
     ]
    }
   ],
   "source": [
    "x = np.arange(stats.poisson.ppf(0.001, mu),\n",
    "              stats.poisson.ppf(0.999, mu))\n",
    "print (x)"
   ]
  },
  {
   "cell_type": "markdown",
   "metadata": {},
   "source": [
    "### With lambda and x can compute probabilities using the pmf"
   ]
  },
  {
   "cell_type": "code",
   "execution_count": 9,
   "metadata": {
    "collapsed": false
   },
   "outputs": [
    {
     "name": "stdout",
     "output_type": "stream",
     "text": [
      "The probability of one visitor is 0.024.\n",
      "The probability of six visitors is 0.156.\n"
     ]
    }
   ],
   "source": [
    "print (\"The probability of one visitor is {0:0.3f}.\".format(stats.poisson.pmf(1, mu)))\n",
    "print (\"The probability of six visitors is {0:0.3f}.\".format(stats.poisson.pmf(6, mu)))"
   ]
  },
  {
   "cell_type": "markdown",
   "metadata": {},
   "source": [
    "### Plot the distribution"
   ]
  },
  {
   "cell_type": "code",
   "execution_count": 10,
   "metadata": {
    "collapsed": false
   },
   "outputs": [
    {
     "data": {
      "image/png": "[encoded data removed]",
      "text/plain": [
       "<matplotlib.figure.Figure at 0x112d96eb8>"
      ]
     },
     "metadata": {},
     "output_type": "display_data"
    }
   ],
   "source": [
    "fig, ax = plt.subplots(1, 1, figsize=(12, 5))\n",
    "ax.plot(x, stats.poisson.pmf(x, mu), 'bo', ms=8, label='poisson pmf')\n",
    "ax.vlines(x, 0, stats.poisson.pmf(x, mu), colors='b', lw=5, alpha=0.5)\n",
    "ax.set_title(\"Poisson, $\\lambda={:.3f}$\".format(mu));   # why the ;?"
   ]
  },
  {
   "cell_type": "code",
   "execution_count": 11,
   "metadata": {
    "collapsed": false
   },
   "outputs": [
    {
     "name": "stdout",
     "output_type": "stream",
     "text": [
      "The probability of zero visitors is 0.0044.\n"
     ]
    }
   ],
   "source": [
    "prob_0_visitors = stats.poisson.pmf(0, mu)\n",
    "print (\"The probability of zero visitors is {0:0.4f}.\".format(prob_0_visitors))"
   ]
  },
  {
   "cell_type": "markdown",
   "metadata": {
    "collapsed": true
   },
   "source": [
    "\n",
    "## Binomial"
   ]
  },
  {
   "cell_type": "code",
   "execution_count": 12,
   "metadata": {
    "collapsed": false
   },
   "outputs": [
    {
     "name": "stdout",
     "output_type": "stream",
     "text": [
      "probability that we observe 45 or less heads in 100 flips given p = 0.52 is 0.09665335032776912\n"
     ]
    }
   ],
   "source": [
    "p = .52\n",
    "x = 45\n",
    "n = 100\n",
    "\n",
    "# P(X<=45) = \n",
    "\n",
    "print (\"probability that we observe {} or less heads in {} flips given p = {} is {}\".format(x,n,p, stats.binom.cdf(x, n, p)))"
   ]
  },
  {
   "cell_type": "code",
   "execution_count": null,
   "metadata": {
    "collapsed": true
   },
   "outputs": [],
   "source": []
  }
 ],
 "metadata": {
  "anaconda-cloud": {},
  "kernelspec": {
   "display_name": "Python 3",
   "language": "python",
   "name": "python3"
  },
  "language_info": {
   "codemirror_mode": {
    "name": "ipython",
    "version": 3
   },
   "file_extension": ".py",
   "mimetype": "text/x-python",
   "name": "python",
   "nbconvert_exporter": "python",
   "pygments_lexer": "ipython3",
   "version": "3.6.0"
  }
 },
 "nbformat": 4,
 "nbformat_minor": 1
}
