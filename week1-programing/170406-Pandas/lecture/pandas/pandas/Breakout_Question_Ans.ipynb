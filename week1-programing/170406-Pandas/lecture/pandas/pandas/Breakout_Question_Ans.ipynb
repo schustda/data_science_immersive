{
 "cells": [
  {
   "cell_type": "markdown",
   "metadata": {
    "deletable": true,
    "editable": true
   },
   "source": [
    "# Pandas Breakout Questions\n",
    "\n",
    "To get some hands on experience with `pandas` we will be working with the somewhat morose dataset looking at all the mass shooting events that occured in 2015 (`./data/mass_shootings_2015.csv`)"
   ]
  },
  {
   "cell_type": "markdown",
   "metadata": {
    "deletable": true,
    "editable": true
   },
   "source": [
    "NOTE: There are many ways to accomplish a task in the `pandas` package and thus these solutions are just a way to show you one or two approaches."
   ]
  },
  {
   "cell_type": "code",
   "execution_count": 1,
   "metadata": {
    "collapsed": true,
    "deletable": true,
    "editable": true
   },
   "outputs": [],
   "source": [
    "import pandas as pd"
   ]
  },
  {
   "cell_type": "markdown",
   "metadata": {
    "deletable": true,
    "editable": true
   },
   "source": [
    "## 1. Reading in the Dataframe\n",
    "\n",
    "First things first, we must read in our dataset!\n",
    "Turn to your neighbor and figure out how to read this data into a Dataframe.  Once you have it read in, take a look at the columns and look at some summary statistics."
   ]
  },
  {
   "cell_type": "code",
   "execution_count": 2,
   "metadata": {
    "collapsed": true,
    "deletable": true,
    "editable": true
   },
   "outputs": [],
   "source": [
    "df = pd.read_csv('./data/mass_shootings_2015.csv')"
   ]
  },
  {
   "cell_type": "code",
   "execution_count": 3,
   "metadata": {
    "collapsed": false,
    "deletable": true,
    "editable": true
   },
   "outputs": [
    {
     "data": {
      "text/html": [
       "<div>\n",
       "<table border=\"1\" class=\"dataframe\">\n",
       "  <thead>\n",
       "    <tr style=\"text-align: right;\">\n",
       "      <th></th>\n",
       "      <th>Incident Date</th>\n",
       "      <th>State</th>\n",
       "      <th>City Or County</th>\n",
       "      <th>Address</th>\n",
       "      <th># Killed</th>\n",
       "      <th># Injured</th>\n",
       "      <th>Operations</th>\n",
       "    </tr>\n",
       "  </thead>\n",
       "  <tbody>\n",
       "    <tr>\n",
       "      <th>0</th>\n",
       "      <td>December 31, 2015</td>\n",
       "      <td>Louisiana</td>\n",
       "      <td>New Orleans</td>\n",
       "      <td>1900 block of Amelia Street</td>\n",
       "      <td>0</td>\n",
       "      <td>5</td>\n",
       "      <td>NaN</td>\n",
       "    </tr>\n",
       "    <tr>\n",
       "      <th>1</th>\n",
       "      <td>December 27, 2015</td>\n",
       "      <td>Tennessee</td>\n",
       "      <td>Jackson</td>\n",
       "      <td>North Parkway</td>\n",
       "      <td>0</td>\n",
       "      <td>4</td>\n",
       "      <td>NaN</td>\n",
       "    </tr>\n",
       "    <tr>\n",
       "      <th>2</th>\n",
       "      <td>December 26, 2015</td>\n",
       "      <td>Pennsylvania</td>\n",
       "      <td>Philadelphia</td>\n",
       "      <td>4210 Macalester St</td>\n",
       "      <td>0</td>\n",
       "      <td>4</td>\n",
       "      <td>NaN</td>\n",
       "    </tr>\n",
       "    <tr>\n",
       "      <th>3</th>\n",
       "      <td>December 25, 2015</td>\n",
       "      <td>Florida</td>\n",
       "      <td>Jacksonville</td>\n",
       "      <td>Franklin and Odessa</td>\n",
       "      <td>0</td>\n",
       "      <td>4</td>\n",
       "      <td>NaN</td>\n",
       "    </tr>\n",
       "    <tr>\n",
       "      <th>4</th>\n",
       "      <td>December 25, 2015</td>\n",
       "      <td>Alabama</td>\n",
       "      <td>Mobile</td>\n",
       "      <td>785 Schillinger Rd S</td>\n",
       "      <td>0</td>\n",
       "      <td>4</td>\n",
       "      <td>NaN</td>\n",
       "    </tr>\n",
       "  </tbody>\n",
       "</table>\n",
       "</div>"
      ],
      "text/plain": [
       "       Incident Date         State City Or County  \\\n",
       "0  December 31, 2015     Louisiana    New Orleans   \n",
       "1  December 27, 2015     Tennessee        Jackson   \n",
       "2  December 26, 2015  Pennsylvania   Philadelphia   \n",
       "3  December 25, 2015       Florida   Jacksonville   \n",
       "4  December 25, 2015       Alabama         Mobile   \n",
       "\n",
       "                       Address  # Killed  # Injured  Operations  \n",
       "0  1900 block of Amelia Street         0          5         NaN  \n",
       "1                North Parkway         0          4         NaN  \n",
       "2           4210 Macalester St         0          4         NaN  \n",
       "3          Franklin and Odessa         0          4         NaN  \n",
       "4         785 Schillinger Rd S         0          4         NaN  "
      ]
     },
     "execution_count": 3,
     "metadata": {},
     "output_type": "execute_result"
    }
   ],
   "source": [
    "df.head()"
   ]
  },
  {
   "cell_type": "code",
   "execution_count": 4,
   "metadata": {
    "collapsed": false,
    "deletable": true,
    "editable": true
   },
   "outputs": [
    {
     "name": "stdout",
     "output_type": "stream",
     "text": [
      "<class 'pandas.core.frame.DataFrame'>\n",
      "RangeIndex: 330 entries, 0 to 329\n",
      "Data columns (total 7 columns):\n",
      "Incident Date     330 non-null object\n",
      "State             330 non-null object\n",
      "City Or County    330 non-null object\n",
      "Address           327 non-null object\n",
      "# Killed          330 non-null int64\n",
      "# Injured         330 non-null int64\n",
      "Operations        0 non-null float64\n",
      "dtypes: float64(1), int64(2), object(4)\n",
      "memory usage: 18.1+ KB\n"
     ]
    }
   ],
   "source": [
    "df.info()"
   ]
  },
  {
   "cell_type": "code",
   "execution_count": 5,
   "metadata": {
    "collapsed": false,
    "deletable": true,
    "editable": true
   },
   "outputs": [
    {
     "data": {
      "text/html": [
       "<div>\n",
       "<table border=\"1\" class=\"dataframe\">\n",
       "  <thead>\n",
       "    <tr style=\"text-align: right;\">\n",
       "      <th></th>\n",
       "      <th># Killed</th>\n",
       "      <th># Injured</th>\n",
       "      <th>Operations</th>\n",
       "    </tr>\n",
       "  </thead>\n",
       "  <tbody>\n",
       "    <tr>\n",
       "      <th>count</th>\n",
       "      <td>330.000000</td>\n",
       "      <td>330.000000</td>\n",
       "      <td>0.0</td>\n",
       "    </tr>\n",
       "    <tr>\n",
       "      <th>mean</th>\n",
       "      <td>1.112121</td>\n",
       "      <td>3.990909</td>\n",
       "      <td>NaN</td>\n",
       "    </tr>\n",
       "    <tr>\n",
       "      <th>std</th>\n",
       "      <td>1.792293</td>\n",
       "      <td>2.218308</td>\n",
       "      <td>NaN</td>\n",
       "    </tr>\n",
       "    <tr>\n",
       "      <th>min</th>\n",
       "      <td>0.000000</td>\n",
       "      <td>0.000000</td>\n",
       "      <td>NaN</td>\n",
       "    </tr>\n",
       "    <tr>\n",
       "      <th>25%</th>\n",
       "      <td>0.000000</td>\n",
       "      <td>3.000000</td>\n",
       "      <td>NaN</td>\n",
       "    </tr>\n",
       "    <tr>\n",
       "      <th>50%</th>\n",
       "      <td>1.000000</td>\n",
       "      <td>4.000000</td>\n",
       "      <td>NaN</td>\n",
       "    </tr>\n",
       "    <tr>\n",
       "      <th>75%</th>\n",
       "      <td>1.000000</td>\n",
       "      <td>5.000000</td>\n",
       "      <td>NaN</td>\n",
       "    </tr>\n",
       "    <tr>\n",
       "      <th>max</th>\n",
       "      <td>16.000000</td>\n",
       "      <td>19.000000</td>\n",
       "      <td>NaN</td>\n",
       "    </tr>\n",
       "  </tbody>\n",
       "</table>\n",
       "</div>"
      ],
      "text/plain": [
       "         # Killed   # Injured  Operations\n",
       "count  330.000000  330.000000         0.0\n",
       "mean     1.112121    3.990909         NaN\n",
       "std      1.792293    2.218308         NaN\n",
       "min      0.000000    0.000000         NaN\n",
       "25%      0.000000    3.000000         NaN\n",
       "50%      1.000000    4.000000         NaN\n",
       "75%      1.000000    5.000000         NaN\n",
       "max     16.000000   19.000000         NaN"
      ]
     },
     "execution_count": 5,
     "metadata": {},
     "output_type": "execute_result"
    }
   ],
   "source": [
    "df.describe()"
   ]
  },
  {
   "cell_type": "markdown",
   "metadata": {
    "deletable": true,
    "editable": true
   },
   "source": [
    "## 2. Clean Column Names\n",
    "\n",
    "The first thing I always do when reading in a Datafram is clean up our column names!  Personally I view spaces, special characters, and capitals in column names as no-no's.  Granted this isn't a hard and fast rule but we have already seen cases where having spaces in column names causes issues.\n",
    "\n",
    "With your neighbor, clean the columns names of this Dataframe!"
   ]
  },
  {
   "cell_type": "code",
   "execution_count": 6,
   "metadata": {
    "collapsed": false,
    "deletable": true,
    "editable": true
   },
   "outputs": [
    {
     "data": {
      "text/plain": [
       "Index(['Incident Date', 'State', 'City Or County', 'Address', '# Killed',\n",
       "       '# Injured', 'Operations'],\n",
       "      dtype='object')"
      ]
     },
     "execution_count": 6,
     "metadata": {},
     "output_type": "execute_result"
    }
   ],
   "source": [
    "df.columns"
   ]
  },
  {
   "cell_type": "code",
   "execution_count": 7,
   "metadata": {
    "collapsed": false,
    "deletable": true,
    "editable": true
   },
   "outputs": [
    {
     "data": {
      "text/plain": [
       "Index(['incident_date', 'state', 'city_or_county', 'address', 'num_killed',\n",
       "       'num_injured', 'operations'],\n",
       "      dtype='object')"
      ]
     },
     "execution_count": 7,
     "metadata": {},
     "output_type": "execute_result"
    }
   ],
   "source": [
    "cols = df.columns.tolist()\n",
    "cols = [col.lower().replace('#', 'num').replace(' ', '_') for col in cols]\n",
    "df.columns = cols\n",
    "df.columns"
   ]
  },
  {
   "cell_type": "markdown",
   "metadata": {
    "deletable": true,
    "editable": true
   },
   "source": [
    "Maybe I want to also rename `'incident_date'` to just `'date'`, I can do this like so..."
   ]
  },
  {
   "cell_type": "code",
   "execution_count": 8,
   "metadata": {
    "collapsed": false,
    "deletable": true,
    "editable": true
   },
   "outputs": [
    {
     "data": {
      "text/plain": [
       "Index(['incident_date', 'state', 'city_or_county', 'address', 'num_killed',\n",
       "       'num_injured', 'operations'],\n",
       "      dtype='object')"
      ]
     },
     "execution_count": 8,
     "metadata": {},
     "output_type": "execute_result"
    }
   ],
   "source": [
    "df.rename(columns={'incident_date': 'date'})\n",
    "df.columns"
   ]
  },
  {
   "cell_type": "code",
   "execution_count": 9,
   "metadata": {
    "collapsed": false,
    "deletable": true,
    "editable": true
   },
   "outputs": [
    {
     "data": {
      "text/plain": [
       "Index(['date', 'state', 'city_or_county', 'address', 'num_killed',\n",
       "       'num_injured', 'operations'],\n",
       "      dtype='object')"
      ]
     },
     "execution_count": 9,
     "metadata": {},
     "output_type": "execute_result"
    }
   ],
   "source": [
    "df.rename(columns={'incident_date': 'date'}, inplace=True)\n",
    "df.columns"
   ]
  },
  {
   "cell_type": "markdown",
   "metadata": {
    "deletable": true,
    "editable": true
   },
   "source": [
    "## 3. Cast the `date` column as a datetime object\n",
    "\n",
    "We can see from our initial look at this data that the `date` column is actually an object (basically a string).  Let's alter this column to make it an actual date!\n",
    "\n",
    "HINT: http://pandas.pydata.org/pandas-docs/stable/generated/pandas.to_datetime.html"
   ]
  },
  {
   "cell_type": "code",
   "execution_count": 10,
   "metadata": {
    "collapsed": false,
    "deletable": true,
    "editable": true
   },
   "outputs": [],
   "source": [
    "df['date'] = pd.to_datetime(df['date'])"
   ]
  },
  {
   "cell_type": "code",
   "execution_count": 11,
   "metadata": {
    "collapsed": false,
    "deletable": true,
    "editable": true
   },
   "outputs": [
    {
     "name": "stdout",
     "output_type": "stream",
     "text": [
      "<class 'pandas.core.frame.DataFrame'>\n",
      "RangeIndex: 330 entries, 0 to 329\n",
      "Data columns (total 7 columns):\n",
      "date              330 non-null datetime64[ns]\n",
      "state             330 non-null object\n",
      "city_or_county    330 non-null object\n",
      "address           327 non-null object\n",
      "num_killed        330 non-null int64\n",
      "num_injured       330 non-null int64\n",
      "operations        0 non-null float64\n",
      "dtypes: datetime64[ns](1), float64(1), int64(2), object(3)\n",
      "memory usage: 18.1+ KB\n"
     ]
    }
   ],
   "source": [
    "df.info()"
   ]
  },
  {
   "cell_type": "markdown",
   "metadata": {
    "deletable": true,
    "editable": true
   },
   "source": [
    "## 4. Make a new column `month`\n",
    "\n",
    "Using that `date` column, create a new column called `month` that will have an `int` representing the ordinal month (e.g. `1` would indicate January)\n",
    "\n",
    "HINT: Try pulling out a single date (use `.loc` for practice!) and extract the month.  Then try using the `.map` function to create a new column"
   ]
  },
  {
   "cell_type": "code",
   "execution_count": 12,
   "metadata": {
    "collapsed": true,
    "deletable": true,
    "editable": true
   },
   "outputs": [],
   "source": [
    "x = df.loc[0, 'date']"
   ]
  },
  {
   "cell_type": "code",
   "execution_count": 13,
   "metadata": {
    "collapsed": false,
    "deletable": true,
    "editable": true
   },
   "outputs": [
    {
     "data": {
      "text/plain": [
       "Timestamp('2015-12-31 00:00:00')"
      ]
     },
     "execution_count": 13,
     "metadata": {},
     "output_type": "execute_result"
    }
   ],
   "source": [
    "x"
   ]
  },
  {
   "cell_type": "code",
   "execution_count": 14,
   "metadata": {
    "collapsed": false,
    "deletable": true,
    "editable": true
   },
   "outputs": [
    {
     "data": {
      "text/plain": [
       "12"
      ]
     },
     "execution_count": 14,
     "metadata": {},
     "output_type": "execute_result"
    }
   ],
   "source": [
    "x.month"
   ]
  },
  {
   "cell_type": "code",
   "execution_count": 15,
   "metadata": {
    "collapsed": false,
    "deletable": true,
    "editable": true
   },
   "outputs": [],
   "source": [
    "df['month'] = df['date'].map(lambda x: x.month)"
   ]
  },
  {
   "cell_type": "code",
   "execution_count": 16,
   "metadata": {
    "collapsed": false,
    "deletable": true,
    "editable": true
   },
   "outputs": [
    {
     "data": {
      "text/html": [
       "<div>\n",
       "<table border=\"1\" class=\"dataframe\">\n",
       "  <thead>\n",
       "    <tr style=\"text-align: right;\">\n",
       "      <th></th>\n",
       "      <th>date</th>\n",
       "      <th>state</th>\n",
       "      <th>city_or_county</th>\n",
       "      <th>address</th>\n",
       "      <th>num_killed</th>\n",
       "      <th>num_injured</th>\n",
       "      <th>operations</th>\n",
       "      <th>month</th>\n",
       "    </tr>\n",
       "  </thead>\n",
       "  <tbody>\n",
       "    <tr>\n",
       "      <th>0</th>\n",
       "      <td>2015-12-31</td>\n",
       "      <td>Louisiana</td>\n",
       "      <td>New Orleans</td>\n",
       "      <td>1900 block of Amelia Street</td>\n",
       "      <td>0</td>\n",
       "      <td>5</td>\n",
       "      <td>NaN</td>\n",
       "      <td>12</td>\n",
       "    </tr>\n",
       "    <tr>\n",
       "      <th>1</th>\n",
       "      <td>2015-12-27</td>\n",
       "      <td>Tennessee</td>\n",
       "      <td>Jackson</td>\n",
       "      <td>North Parkway</td>\n",
       "      <td>0</td>\n",
       "      <td>4</td>\n",
       "      <td>NaN</td>\n",
       "      <td>12</td>\n",
       "    </tr>\n",
       "    <tr>\n",
       "      <th>2</th>\n",
       "      <td>2015-12-26</td>\n",
       "      <td>Pennsylvania</td>\n",
       "      <td>Philadelphia</td>\n",
       "      <td>4210 Macalester St</td>\n",
       "      <td>0</td>\n",
       "      <td>4</td>\n",
       "      <td>NaN</td>\n",
       "      <td>12</td>\n",
       "    </tr>\n",
       "    <tr>\n",
       "      <th>3</th>\n",
       "      <td>2015-12-25</td>\n",
       "      <td>Florida</td>\n",
       "      <td>Jacksonville</td>\n",
       "      <td>Franklin and Odessa</td>\n",
       "      <td>0</td>\n",
       "      <td>4</td>\n",
       "      <td>NaN</td>\n",
       "      <td>12</td>\n",
       "    </tr>\n",
       "    <tr>\n",
       "      <th>4</th>\n",
       "      <td>2015-12-25</td>\n",
       "      <td>Alabama</td>\n",
       "      <td>Mobile</td>\n",
       "      <td>785 Schillinger Rd S</td>\n",
       "      <td>0</td>\n",
       "      <td>4</td>\n",
       "      <td>NaN</td>\n",
       "      <td>12</td>\n",
       "    </tr>\n",
       "  </tbody>\n",
       "</table>\n",
       "</div>"
      ],
      "text/plain": [
       "        date         state city_or_county                      address  \\\n",
       "0 2015-12-31     Louisiana    New Orleans  1900 block of Amelia Street   \n",
       "1 2015-12-27     Tennessee        Jackson                North Parkway   \n",
       "2 2015-12-26  Pennsylvania   Philadelphia           4210 Macalester St   \n",
       "3 2015-12-25       Florida   Jacksonville          Franklin and Odessa   \n",
       "4 2015-12-25       Alabama         Mobile         785 Schillinger Rd S   \n",
       "\n",
       "   num_killed  num_injured  operations  month  \n",
       "0           0            5         NaN     12  \n",
       "1           0            4         NaN     12  \n",
       "2           0            4         NaN     12  \n",
       "3           0            4         NaN     12  \n",
       "4           0            4         NaN     12  "
      ]
     },
     "execution_count": 16,
     "metadata": {},
     "output_type": "execute_result"
    }
   ],
   "source": [
    "df.head()"
   ]
  },
  {
   "cell_type": "code",
   "execution_count": 17,
   "metadata": {
    "collapsed": false,
    "deletable": true,
    "editable": true
   },
   "outputs": [],
   "source": [
    "df['month'] = df['date'].dt.month"
   ]
  },
  {
   "cell_type": "markdown",
   "metadata": {
    "deletable": true,
    "editable": true
   },
   "source": [
    "## 5. Drop the `operations` column\n",
    "\n",
    "It looks like the operations column doesn't actually contain any useful information so let's drop that!"
   ]
  },
  {
   "cell_type": "code",
   "execution_count": 18,
   "metadata": {
    "collapsed": false,
    "deletable": true,
    "editable": true
   },
   "outputs": [
    {
     "data": {
      "text/html": [
       "<div>\n",
       "<table border=\"1\" class=\"dataframe\">\n",
       "  <thead>\n",
       "    <tr style=\"text-align: right;\">\n",
       "      <th></th>\n",
       "      <th>date</th>\n",
       "      <th>state</th>\n",
       "      <th>city_or_county</th>\n",
       "      <th>address</th>\n",
       "      <th>num_killed</th>\n",
       "      <th>num_injured</th>\n",
       "      <th>month</th>\n",
       "    </tr>\n",
       "  </thead>\n",
       "  <tbody>\n",
       "    <tr>\n",
       "      <th>0</th>\n",
       "      <td>2015-12-31</td>\n",
       "      <td>Louisiana</td>\n",
       "      <td>New Orleans</td>\n",
       "      <td>1900 block of Amelia Street</td>\n",
       "      <td>0</td>\n",
       "      <td>5</td>\n",
       "      <td>12</td>\n",
       "    </tr>\n",
       "    <tr>\n",
       "      <th>1</th>\n",
       "      <td>2015-12-27</td>\n",
       "      <td>Tennessee</td>\n",
       "      <td>Jackson</td>\n",
       "      <td>North Parkway</td>\n",
       "      <td>0</td>\n",
       "      <td>4</td>\n",
       "      <td>12</td>\n",
       "    </tr>\n",
       "    <tr>\n",
       "      <th>2</th>\n",
       "      <td>2015-12-26</td>\n",
       "      <td>Pennsylvania</td>\n",
       "      <td>Philadelphia</td>\n",
       "      <td>4210 Macalester St</td>\n",
       "      <td>0</td>\n",
       "      <td>4</td>\n",
       "      <td>12</td>\n",
       "    </tr>\n",
       "    <tr>\n",
       "      <th>3</th>\n",
       "      <td>2015-12-25</td>\n",
       "      <td>Florida</td>\n",
       "      <td>Jacksonville</td>\n",
       "      <td>Franklin and Odessa</td>\n",
       "      <td>0</td>\n",
       "      <td>4</td>\n",
       "      <td>12</td>\n",
       "    </tr>\n",
       "    <tr>\n",
       "      <th>4</th>\n",
       "      <td>2015-12-25</td>\n",
       "      <td>Alabama</td>\n",
       "      <td>Mobile</td>\n",
       "      <td>785 Schillinger Rd S</td>\n",
       "      <td>0</td>\n",
       "      <td>4</td>\n",
       "      <td>12</td>\n",
       "    </tr>\n",
       "  </tbody>\n",
       "</table>\n",
       "</div>"
      ],
      "text/plain": [
       "        date         state city_or_county                      address  \\\n",
       "0 2015-12-31     Louisiana    New Orleans  1900 block of Amelia Street   \n",
       "1 2015-12-27     Tennessee        Jackson                North Parkway   \n",
       "2 2015-12-26  Pennsylvania   Philadelphia           4210 Macalester St   \n",
       "3 2015-12-25       Florida   Jacksonville          Franklin and Odessa   \n",
       "4 2015-12-25       Alabama         Mobile         785 Schillinger Rd S   \n",
       "\n",
       "   num_killed  num_injured  month  \n",
       "0           0            5     12  \n",
       "1           0            4     12  \n",
       "2           0            4     12  \n",
       "3           0            4     12  \n",
       "4           0            4     12  "
      ]
     },
     "execution_count": 18,
     "metadata": {},
     "output_type": "execute_result"
    }
   ],
   "source": [
    "df.drop('operations', axis=1, inplace=True)\n",
    "df.head()"
   ]
  },
  {
   "cell_type": "markdown",
   "metadata": {
    "deletable": true,
    "editable": true
   },
   "source": [
    "## 6. How many incidents occured in each Month?\n",
    "\n",
    "Let's look at how many incidents took place in each month.\n",
    "HINT: (http://pandas.pydata.org/pandas-docs/stable/generated/pandas.DataFrame.groupby.html)"
   ]
  },
  {
   "cell_type": "code",
   "execution_count": 19,
   "metadata": {
    "collapsed": false,
    "deletable": true,
    "editable": true
   },
   "outputs": [
    {
     "data": {
      "text/plain": [
       "month\n",
       "1     23\n",
       "2     16\n",
       "3     20\n",
       "4     19\n",
       "5     35\n",
       "6     36\n",
       "7     41\n",
       "8     39\n",
       "9     34\n",
       "10    20\n",
       "11    27\n",
       "12    20\n",
       "Name: state, dtype: int64"
      ]
     },
     "execution_count": 19,
     "metadata": {},
     "output_type": "execute_result"
    }
   ],
   "source": [
    "df.groupby('month').count()['state']"
   ]
  },
  {
   "cell_type": "code",
   "execution_count": 20,
   "metadata": {
    "collapsed": false,
    "deletable": true,
    "editable": true
   },
   "outputs": [
    {
     "data": {
      "text/plain": [
       "month\n",
       "1     23\n",
       "2     16\n",
       "3     20\n",
       "4     19\n",
       "5     35\n",
       "6     36\n",
       "7     41\n",
       "8     39\n",
       "9     34\n",
       "10    20\n",
       "11    27\n",
       "12    20\n",
       "Name: state, dtype: int64"
      ]
     },
     "execution_count": 20,
     "metadata": {},
     "output_type": "execute_result"
    }
   ],
   "source": [
    "df.groupby('month')['state'].count()"
   ]
  },
  {
   "cell_type": "markdown",
   "metadata": {
    "deletable": true,
    "editable": true
   },
   "source": [
    "## 7. How many casualties occured in each Month?\n",
    "\n",
    "Right now we have the number of people involved broken out into the number killed and the number injured.  Let's create a single column that indicates the number of casualties (i.e. the sum of killed and injured)"
   ]
  },
  {
   "cell_type": "code",
   "execution_count": 21,
   "metadata": {
    "collapsed": false,
    "deletable": true,
    "editable": true
   },
   "outputs": [
    {
     "data": {
      "text/html": [
       "<div>\n",
       "<table border=\"1\" class=\"dataframe\">\n",
       "  <thead>\n",
       "    <tr style=\"text-align: right;\">\n",
       "      <th></th>\n",
       "      <th>date</th>\n",
       "      <th>state</th>\n",
       "      <th>city_or_county</th>\n",
       "      <th>address</th>\n",
       "      <th>num_killed</th>\n",
       "      <th>num_injured</th>\n",
       "      <th>month</th>\n",
       "      <th>num_casualties</th>\n",
       "    </tr>\n",
       "  </thead>\n",
       "  <tbody>\n",
       "    <tr>\n",
       "      <th>0</th>\n",
       "      <td>2015-12-31</td>\n",
       "      <td>Louisiana</td>\n",
       "      <td>New Orleans</td>\n",
       "      <td>1900 block of Amelia Street</td>\n",
       "      <td>0</td>\n",
       "      <td>5</td>\n",
       "      <td>12</td>\n",
       "      <td>5</td>\n",
       "    </tr>\n",
       "    <tr>\n",
       "      <th>1</th>\n",
       "      <td>2015-12-27</td>\n",
       "      <td>Tennessee</td>\n",
       "      <td>Jackson</td>\n",
       "      <td>North Parkway</td>\n",
       "      <td>0</td>\n",
       "      <td>4</td>\n",
       "      <td>12</td>\n",
       "      <td>4</td>\n",
       "    </tr>\n",
       "    <tr>\n",
       "      <th>2</th>\n",
       "      <td>2015-12-26</td>\n",
       "      <td>Pennsylvania</td>\n",
       "      <td>Philadelphia</td>\n",
       "      <td>4210 Macalester St</td>\n",
       "      <td>0</td>\n",
       "      <td>4</td>\n",
       "      <td>12</td>\n",
       "      <td>4</td>\n",
       "    </tr>\n",
       "    <tr>\n",
       "      <th>3</th>\n",
       "      <td>2015-12-25</td>\n",
       "      <td>Florida</td>\n",
       "      <td>Jacksonville</td>\n",
       "      <td>Franklin and Odessa</td>\n",
       "      <td>0</td>\n",
       "      <td>4</td>\n",
       "      <td>12</td>\n",
       "      <td>4</td>\n",
       "    </tr>\n",
       "    <tr>\n",
       "      <th>4</th>\n",
       "      <td>2015-12-25</td>\n",
       "      <td>Alabama</td>\n",
       "      <td>Mobile</td>\n",
       "      <td>785 Schillinger Rd S</td>\n",
       "      <td>0</td>\n",
       "      <td>4</td>\n",
       "      <td>12</td>\n",
       "      <td>4</td>\n",
       "    </tr>\n",
       "  </tbody>\n",
       "</table>\n",
       "</div>"
      ],
      "text/plain": [
       "        date         state city_or_county                      address  \\\n",
       "0 2015-12-31     Louisiana    New Orleans  1900 block of Amelia Street   \n",
       "1 2015-12-27     Tennessee        Jackson                North Parkway   \n",
       "2 2015-12-26  Pennsylvania   Philadelphia           4210 Macalester St   \n",
       "3 2015-12-25       Florida   Jacksonville          Franklin and Odessa   \n",
       "4 2015-12-25       Alabama         Mobile         785 Schillinger Rd S   \n",
       "\n",
       "   num_killed  num_injured  month  num_casualties  \n",
       "0           0            5     12               5  \n",
       "1           0            4     12               4  \n",
       "2           0            4     12               4  \n",
       "3           0            4     12               4  \n",
       "4           0            4     12               4  "
      ]
     },
     "execution_count": 21,
     "metadata": {},
     "output_type": "execute_result"
    }
   ],
   "source": [
    "df['num_casualties'] = df['num_killed'] + df['num_injured']\n",
    "df.head()"
   ]
  },
  {
   "cell_type": "markdown",
   "metadata": {
    "deletable": true,
    "editable": true
   },
   "source": [
    "## 8. How many casualties occured by State?\n",
    "\n",
    "Now that we have a casualties column, let's brake down the number of casualties by state."
   ]
  },
  {
   "cell_type": "code",
   "execution_count": 22,
   "metadata": {
    "collapsed": false,
    "deletable": true,
    "editable": true
   },
   "outputs": [
    {
     "data": {
      "text/plain": [
       "state\n",
       "Alabama                  17\n",
       "Arizona                  29\n",
       "Arkansas                 16\n",
       "California              158\n",
       "Colorado                 20\n",
       "Connecticut              14\n",
       "Delaware                  6\n",
       "District of Columbia      9\n",
       "Florida                 106\n",
       "Georgia                  98\n",
       "Illinois                117\n",
       "Indiana                  49\n",
       "Iowa                      9\n",
       "Kansas                    4\n",
       "Kentucky                 20\n",
       "Louisiana                83\n",
       "Maryland                 61\n",
       "Massachusetts            24\n",
       "Michigan                 54\n",
       "Minnesota                24\n",
       "Mississippi               9\n",
       "Missouri                 51\n",
       "Montana                   5\n",
       "Nebraska                 17\n",
       "Nevada                    4\n",
       "New Jersey               36\n",
       "New Mexico               11\n",
       "New York                109\n",
       "North Carolina           59\n",
       "Ohio                     67\n",
       "Oklahoma                 19\n",
       "Oregon                   24\n",
       "Pennsylvania             73\n",
       "Rhode Island              4\n",
       "South Carolina           51\n",
       "South Dakota              6\n",
       "Tennessee                56\n",
       "Texas                   119\n",
       "Vermont                   4\n",
       "Virginia                 23\n",
       "Washington                4\n",
       "Wisconsin                15\n",
       "Name: num_casualties, dtype: int64"
      ]
     },
     "execution_count": 22,
     "metadata": {},
     "output_type": "execute_result"
    }
   ],
   "source": [
    "df.groupby('state')['num_casualties'].sum()"
   ]
  },
  {
   "cell_type": "code",
   "execution_count": 23,
   "metadata": {
    "collapsed": false,
    "deletable": true,
    "editable": true
   },
   "outputs": [
    {
     "data": {
      "text/html": [
       "<div>\n",
       "<table border=\"1\" class=\"dataframe\">\n",
       "  <thead>\n",
       "    <tr style=\"text-align: right;\">\n",
       "      <th></th>\n",
       "      <th>num_killed</th>\n",
       "      <th>num_injured</th>\n",
       "      <th>num_casualties</th>\n",
       "    </tr>\n",
       "    <tr>\n",
       "      <th>state</th>\n",
       "      <th></th>\n",
       "      <th></th>\n",
       "      <th></th>\n",
       "    </tr>\n",
       "  </thead>\n",
       "  <tbody>\n",
       "    <tr>\n",
       "      <th>Alabama</th>\n",
       "      <td>4</td>\n",
       "      <td>13</td>\n",
       "      <td>17</td>\n",
       "    </tr>\n",
       "    <tr>\n",
       "      <th>Arizona</th>\n",
       "      <td>15</td>\n",
       "      <td>14</td>\n",
       "      <td>29</td>\n",
       "    </tr>\n",
       "    <tr>\n",
       "      <th>Arkansas</th>\n",
       "      <td>2</td>\n",
       "      <td>14</td>\n",
       "      <td>16</td>\n",
       "    </tr>\n",
       "    <tr>\n",
       "      <th>California</th>\n",
       "      <td>38</td>\n",
       "      <td>120</td>\n",
       "      <td>158</td>\n",
       "    </tr>\n",
       "    <tr>\n",
       "      <th>Colorado</th>\n",
       "      <td>4</td>\n",
       "      <td>16</td>\n",
       "      <td>20</td>\n",
       "    </tr>\n",
       "    <tr>\n",
       "      <th>Connecticut</th>\n",
       "      <td>1</td>\n",
       "      <td>13</td>\n",
       "      <td>14</td>\n",
       "    </tr>\n",
       "    <tr>\n",
       "      <th>Delaware</th>\n",
       "      <td>0</td>\n",
       "      <td>6</td>\n",
       "      <td>6</td>\n",
       "    </tr>\n",
       "    <tr>\n",
       "      <th>District of Columbia</th>\n",
       "      <td>1</td>\n",
       "      <td>8</td>\n",
       "      <td>9</td>\n",
       "    </tr>\n",
       "    <tr>\n",
       "      <th>Florida</th>\n",
       "      <td>18</td>\n",
       "      <td>88</td>\n",
       "      <td>106</td>\n",
       "    </tr>\n",
       "    <tr>\n",
       "      <th>Georgia</th>\n",
       "      <td>27</td>\n",
       "      <td>71</td>\n",
       "      <td>98</td>\n",
       "    </tr>\n",
       "    <tr>\n",
       "      <th>Illinois</th>\n",
       "      <td>16</td>\n",
       "      <td>101</td>\n",
       "      <td>117</td>\n",
       "    </tr>\n",
       "    <tr>\n",
       "      <th>Indiana</th>\n",
       "      <td>10</td>\n",
       "      <td>39</td>\n",
       "      <td>49</td>\n",
       "    </tr>\n",
       "    <tr>\n",
       "      <th>Iowa</th>\n",
       "      <td>1</td>\n",
       "      <td>8</td>\n",
       "      <td>9</td>\n",
       "    </tr>\n",
       "    <tr>\n",
       "      <th>Kansas</th>\n",
       "      <td>2</td>\n",
       "      <td>2</td>\n",
       "      <td>4</td>\n",
       "    </tr>\n",
       "    <tr>\n",
       "      <th>Kentucky</th>\n",
       "      <td>2</td>\n",
       "      <td>18</td>\n",
       "      <td>20</td>\n",
       "    </tr>\n",
       "    <tr>\n",
       "      <th>Louisiana</th>\n",
       "      <td>11</td>\n",
       "      <td>72</td>\n",
       "      <td>83</td>\n",
       "    </tr>\n",
       "    <tr>\n",
       "      <th>Maryland</th>\n",
       "      <td>11</td>\n",
       "      <td>50</td>\n",
       "      <td>61</td>\n",
       "    </tr>\n",
       "    <tr>\n",
       "      <th>Massachusetts</th>\n",
       "      <td>3</td>\n",
       "      <td>21</td>\n",
       "      <td>24</td>\n",
       "    </tr>\n",
       "    <tr>\n",
       "      <th>Michigan</th>\n",
       "      <td>3</td>\n",
       "      <td>51</td>\n",
       "      <td>54</td>\n",
       "    </tr>\n",
       "    <tr>\n",
       "      <th>Minnesota</th>\n",
       "      <td>6</td>\n",
       "      <td>18</td>\n",
       "      <td>24</td>\n",
       "    </tr>\n",
       "    <tr>\n",
       "      <th>Mississippi</th>\n",
       "      <td>3</td>\n",
       "      <td>6</td>\n",
       "      <td>9</td>\n",
       "    </tr>\n",
       "    <tr>\n",
       "      <th>Missouri</th>\n",
       "      <td>12</td>\n",
       "      <td>39</td>\n",
       "      <td>51</td>\n",
       "    </tr>\n",
       "    <tr>\n",
       "      <th>Montana</th>\n",
       "      <td>5</td>\n",
       "      <td>0</td>\n",
       "      <td>5</td>\n",
       "    </tr>\n",
       "    <tr>\n",
       "      <th>Nebraska</th>\n",
       "      <td>5</td>\n",
       "      <td>12</td>\n",
       "      <td>17</td>\n",
       "    </tr>\n",
       "    <tr>\n",
       "      <th>Nevada</th>\n",
       "      <td>1</td>\n",
       "      <td>3</td>\n",
       "      <td>4</td>\n",
       "    </tr>\n",
       "    <tr>\n",
       "      <th>New Jersey</th>\n",
       "      <td>5</td>\n",
       "      <td>31</td>\n",
       "      <td>36</td>\n",
       "    </tr>\n",
       "    <tr>\n",
       "      <th>New Mexico</th>\n",
       "      <td>4</td>\n",
       "      <td>7</td>\n",
       "      <td>11</td>\n",
       "    </tr>\n",
       "    <tr>\n",
       "      <th>New York</th>\n",
       "      <td>19</td>\n",
       "      <td>90</td>\n",
       "      <td>109</td>\n",
       "    </tr>\n",
       "    <tr>\n",
       "      <th>North Carolina</th>\n",
       "      <td>7</td>\n",
       "      <td>52</td>\n",
       "      <td>59</td>\n",
       "    </tr>\n",
       "    <tr>\n",
       "      <th>Ohio</th>\n",
       "      <td>19</td>\n",
       "      <td>48</td>\n",
       "      <td>67</td>\n",
       "    </tr>\n",
       "    <tr>\n",
       "      <th>Oklahoma</th>\n",
       "      <td>1</td>\n",
       "      <td>18</td>\n",
       "      <td>19</td>\n",
       "    </tr>\n",
       "    <tr>\n",
       "      <th>Oregon</th>\n",
       "      <td>11</td>\n",
       "      <td>13</td>\n",
       "      <td>24</td>\n",
       "    </tr>\n",
       "    <tr>\n",
       "      <th>Pennsylvania</th>\n",
       "      <td>7</td>\n",
       "      <td>66</td>\n",
       "      <td>73</td>\n",
       "    </tr>\n",
       "    <tr>\n",
       "      <th>Rhode Island</th>\n",
       "      <td>0</td>\n",
       "      <td>4</td>\n",
       "      <td>4</td>\n",
       "    </tr>\n",
       "    <tr>\n",
       "      <th>South Carolina</th>\n",
       "      <td>20</td>\n",
       "      <td>31</td>\n",
       "      <td>51</td>\n",
       "    </tr>\n",
       "    <tr>\n",
       "      <th>South Dakota</th>\n",
       "      <td>6</td>\n",
       "      <td>0</td>\n",
       "      <td>6</td>\n",
       "    </tr>\n",
       "    <tr>\n",
       "      <th>Tennessee</th>\n",
       "      <td>14</td>\n",
       "      <td>42</td>\n",
       "      <td>56</td>\n",
       "    </tr>\n",
       "    <tr>\n",
       "      <th>Texas</th>\n",
       "      <td>41</td>\n",
       "      <td>78</td>\n",
       "      <td>119</td>\n",
       "    </tr>\n",
       "    <tr>\n",
       "      <th>Vermont</th>\n",
       "      <td>4</td>\n",
       "      <td>0</td>\n",
       "      <td>4</td>\n",
       "    </tr>\n",
       "    <tr>\n",
       "      <th>Virginia</th>\n",
       "      <td>2</td>\n",
       "      <td>21</td>\n",
       "      <td>23</td>\n",
       "    </tr>\n",
       "    <tr>\n",
       "      <th>Washington</th>\n",
       "      <td>0</td>\n",
       "      <td>4</td>\n",
       "      <td>4</td>\n",
       "    </tr>\n",
       "    <tr>\n",
       "      <th>Wisconsin</th>\n",
       "      <td>6</td>\n",
       "      <td>9</td>\n",
       "      <td>15</td>\n",
       "    </tr>\n",
       "  </tbody>\n",
       "</table>\n",
       "</div>"
      ],
      "text/plain": [
       "                      num_killed  num_injured  num_casualties\n",
       "state                                                        \n",
       "Alabama                        4           13              17\n",
       "Arizona                       15           14              29\n",
       "Arkansas                       2           14              16\n",
       "California                    38          120             158\n",
       "Colorado                       4           16              20\n",
       "Connecticut                    1           13              14\n",
       "Delaware                       0            6               6\n",
       "District of Columbia           1            8               9\n",
       "Florida                       18           88             106\n",
       "Georgia                       27           71              98\n",
       "Illinois                      16          101             117\n",
       "Indiana                       10           39              49\n",
       "Iowa                           1            8               9\n",
       "Kansas                         2            2               4\n",
       "Kentucky                       2           18              20\n",
       "Louisiana                     11           72              83\n",
       "Maryland                      11           50              61\n",
       "Massachusetts                  3           21              24\n",
       "Michigan                       3           51              54\n",
       "Minnesota                      6           18              24\n",
       "Mississippi                    3            6               9\n",
       "Missouri                      12           39              51\n",
       "Montana                        5            0               5\n",
       "Nebraska                       5           12              17\n",
       "Nevada                         1            3               4\n",
       "New Jersey                     5           31              36\n",
       "New Mexico                     4            7              11\n",
       "New York                      19           90             109\n",
       "North Carolina                 7           52              59\n",
       "Ohio                          19           48              67\n",
       "Oklahoma                       1           18              19\n",
       "Oregon                        11           13              24\n",
       "Pennsylvania                   7           66              73\n",
       "Rhode Island                   0            4               4\n",
       "South Carolina                20           31              51\n",
       "South Dakota                   6            0               6\n",
       "Tennessee                     14           42              56\n",
       "Texas                         41           78             119\n",
       "Vermont                        4            0               4\n",
       "Virginia                       2           21              23\n",
       "Washington                     0            4               4\n",
       "Wisconsin                      6            9              15"
      ]
     },
     "execution_count": 23,
     "metadata": {},
     "output_type": "execute_result"
    }
   ],
   "source": [
    "df.groupby('state')[['num_killed', 'num_injured', 'num_casualties']].sum()"
   ]
  },
  {
   "cell_type": "markdown",
   "metadata": {
    "deletable": true,
    "editable": true
   },
   "source": [
    "## 9. How many distinct City or Counties are represented?\n",
    "\n",
    "Let's see how many distinct City or Counties are represented in this dataset."
   ]
  },
  {
   "cell_type": "code",
   "execution_count": 24,
   "metadata": {
    "collapsed": false,
    "deletable": true,
    "editable": true
   },
   "outputs": [
    {
     "data": {
      "text/plain": [
       "205"
      ]
     },
     "execution_count": 24,
     "metadata": {},
     "output_type": "execute_result"
    }
   ],
   "source": [
    "df['city_or_county'].nunique()"
   ]
  },
  {
   "cell_type": "code",
   "execution_count": 25,
   "metadata": {
    "collapsed": false,
    "deletable": true,
    "editable": true
   },
   "outputs": [
    {
     "data": {
      "text/plain": [
       "array(['New Orleans', 'Jackson', 'Philadelphia', 'Jacksonville', 'Mobile',\n",
       "       'San Leandro', 'Wilmington', 'Miami (Goulds)',\n",
       "       'Miami-dade (county)', 'Lovejoy (Brooklyn)', 'Los Angeles',\n",
       "       'Huntington Beach', 'Savannah', 'Baltimore',\n",
       "       'Pittsburgh (Mount Oliver)', 'Cincinnati (Fairmount)', 'Raceland',\n",
       "       'Omaha', 'San Bernardino', 'Kankakee', 'Colorado Springs',\n",
       "       'Sacramento', 'Horry (county)', 'Columbus', 'Minneapolis',\n",
       "       'Brownsville', 'Seattle', 'Newburgh', 'North Charleston', 'Chicago',\n",
       "       'Pittsburgh', 'Fresno', 'Cherokee (county)', 'Tennessee Colony',\n",
       "       'Johnstown', 'Indianapolis', 'Warren', 'Des Moines', 'Denver',\n",
       "       'Bakersfield', 'Pendleton', 'Houma', 'Fort Worth', 'Evansville',\n",
       "       'Four Oaks', 'Phoenix', 'Washington', 'Bamberg', 'Nashville',\n",
       "       'Calumet City', 'Fort Myers', 'Elkhart', 'Decatur', 'Memphis',\n",
       "       'Charlotte', 'Peoria', 'Flagstaff', 'Roseburg',\n",
       "       'Cincinnati (Evanston)', 'Dayton', 'Greenville', 'Kansas City',\n",
       "       'Danville', 'Shreveport', 'Norcross', 'Tulsa', 'Platte', 'Albion',\n",
       "       'Newark', 'Ocala', 'Rochester', 'Excelsior (Greenwood)', 'Berlin',\n",
       "       'Gary', 'Daytona Beach', 'Las Vegas', 'Columbia', 'Tyler',\n",
       "       'Bristol', 'Brooklyn', 'Salinas', 'Minneapolis (Brooklyn Center)',\n",
       "       'West Palm Beach', 'Modesto', 'Orlando (Pine Hills)', 'Roswell',\n",
       "       'Durham', 'Cincinnati', 'Grulla (La Grulla)', 'Bennettsville',\n",
       "       'Orangeburg', 'Long Beach', 'Forest', 'Detroit', 'Gastonia',\n",
       "       'Houston', 'Blytheville', 'Barre (Berlin)', 'Saint Louis',\n",
       "       'Orlando', 'Rockford', 'Hopewell', 'Erie', 'Lafayette', 'Suwanee',\n",
       "       'Miami Gardens', 'Bronx', 'Suffolk', 'Louisville', 'Rocky Mount',\n",
       "       'San Diego', 'Santa Paula', 'Salem', 'Baton Rouge',\n",
       "       'Cincinnati (Westwood)', 'Chattanooga', 'Dallas', 'Atlanta',\n",
       "       'Cleveland', 'Holly Hill', 'Norwalk', 'Stockton', 'River Forest',\n",
       "       'Jersey City', 'Fort Wayne', 'East Orange', 'Pittsfield',\n",
       "       'Syracuse', 'San Antonio', 'Opa Locka', 'Venice', 'Harrington',\n",
       "       'Taunton', 'New York (Manhattan)', 'Pittsburgh (Wilkinsburg)',\n",
       "       'Lexington', 'Morven', 'Woonsocket', 'Charleston', 'Camden',\n",
       "       'Fayetteville', 'Milledgeville', 'Oklahoma City', 'Allapattah',\n",
       "       'Bridgeport', 'Deer Lodge', 'Buffalo', 'Davenport', 'Wyandanch',\n",
       "       'Springdale', 'New Haven', 'Conyers', 'Chester', 'Flint',\n",
       "       'Brockton', 'Montgomery', 'Kinloch', 'Miami', 'Waco', 'Milwaukee',\n",
       "       'Capitol Heights', 'Tucson', 'South Bend', 'Menasha', 'Gila Bend',\n",
       "       'Trenton', 'Gates', 'Killeen', 'Richmond', 'Williamsport',\n",
       "       'Lumberton', 'Patterson', 'Rome', 'Benton Harbor',\n",
       "       'Panama City Beach', 'Amarillo', 'Clarksville', 'Albuquerque',\n",
       "       'Tampa', 'Lancaster', 'Mesa', 'Compton', 'Coachella', 'Brookhaven',\n",
       "       'Seneca', 'Orange County', 'Tyrone', 'Clarkesville', 'Little Rock',\n",
       "       'New Port Richey', 'Maury City', 'Douglasville',\n",
       "       'Beachwood (Warrensville Heights)', 'Lagrange', 'Dekalb County',\n",
       "       'Arverne (Queens)', 'Boston', 'Oakland', 'Portsmouth', 'Hope Mills',\n",
       "       'Lakeland', 'San Jose', 'Wichita', 'San Francisco', 'Roanoke'], dtype=object)"
      ]
     },
     "execution_count": 25,
     "metadata": {},
     "output_type": "execute_result"
    }
   ],
   "source": [
    "df['city_or_county'].unique()"
   ]
  },
  {
   "cell_type": "code",
   "execution_count": 26,
   "metadata": {
    "collapsed": false,
    "deletable": true,
    "editable": true
   },
   "outputs": [
    {
     "data": {
      "text/plain": [
       "205"
      ]
     },
     "execution_count": 26,
     "metadata": {},
     "output_type": "execute_result"
    }
   ],
   "source": [
    "len(df['city_or_county'].unique())"
   ]
  },
  {
   "cell_type": "markdown",
   "metadata": {
    "deletable": true,
    "editable": true
   },
   "source": [
    "## 10. INDEXING!\n",
    "\n",
    "You should be using `.loc`, `.iloc`, or `.ix` for all of these questions!\n",
    "\n",
    "1. Return all rows occuring in Alabama\n",
    "2. Return all shootings with more than 5 people killed\n",
    "3. Return the address of shootings occuring on or after November 1st\n",
    "4. Return the address and date of all shootings occuring in Louisiana or Florida with the casualty counts ranging from 6 to 10 (inclusive) "
   ]
  },
  {
   "cell_type": "code",
   "execution_count": 27,
   "metadata": {
    "collapsed": false,
    "deletable": true,
    "editable": true
   },
   "outputs": [
    {
     "data": {
      "text/html": [
       "<div>\n",
       "<table border=\"1\" class=\"dataframe\">\n",
       "  <thead>\n",
       "    <tr style=\"text-align: right;\">\n",
       "      <th></th>\n",
       "      <th>date</th>\n",
       "      <th>state</th>\n",
       "      <th>city_or_county</th>\n",
       "      <th>address</th>\n",
       "      <th>num_killed</th>\n",
       "      <th>num_injured</th>\n",
       "      <th>month</th>\n",
       "      <th>num_casualties</th>\n",
       "    </tr>\n",
       "  </thead>\n",
       "  <tbody>\n",
       "    <tr>\n",
       "      <th>4</th>\n",
       "      <td>2015-12-25</td>\n",
       "      <td>Alabama</td>\n",
       "      <td>Mobile</td>\n",
       "      <td>785 Schillinger Rd S</td>\n",
       "      <td>0</td>\n",
       "      <td>4</td>\n",
       "      <td>12</td>\n",
       "      <td>4</td>\n",
       "    </tr>\n",
       "    <tr>\n",
       "      <th>35</th>\n",
       "      <td>2015-11-16</td>\n",
       "      <td>Alabama</td>\n",
       "      <td>Cherokee (county)</td>\n",
       "      <td>1400 block of County Road 664</td>\n",
       "      <td>3</td>\n",
       "      <td>1</td>\n",
       "      <td>11</td>\n",
       "      <td>4</td>\n",
       "    </tr>\n",
       "    <tr>\n",
       "      <th>229</th>\n",
       "      <td>2015-05-24</td>\n",
       "      <td>Alabama</td>\n",
       "      <td>Montgomery</td>\n",
       "      <td>Smiley Court</td>\n",
       "      <td>1</td>\n",
       "      <td>3</td>\n",
       "      <td>5</td>\n",
       "      <td>4</td>\n",
       "    </tr>\n",
       "    <tr>\n",
       "      <th>259</th>\n",
       "      <td>2015-04-18</td>\n",
       "      <td>Alabama</td>\n",
       "      <td>Montgomery</td>\n",
       "      <td>1800 block of Gibbs Court</td>\n",
       "      <td>0</td>\n",
       "      <td>5</td>\n",
       "      <td>4</td>\n",
       "      <td>5</td>\n",
       "    </tr>\n",
       "  </tbody>\n",
       "</table>\n",
       "</div>"
      ],
      "text/plain": [
       "          date    state     city_or_county                        address  \\\n",
       "4   2015-12-25  Alabama             Mobile           785 Schillinger Rd S   \n",
       "35  2015-11-16  Alabama  Cherokee (county)  1400 block of County Road 664   \n",
       "229 2015-05-24  Alabama         Montgomery                   Smiley Court   \n",
       "259 2015-04-18  Alabama         Montgomery      1800 block of Gibbs Court   \n",
       "\n",
       "     num_killed  num_injured  month  num_casualties  \n",
       "4             0            4     12               4  \n",
       "35            3            1     11               4  \n",
       "229           1            3      5               4  \n",
       "259           0            5      4               5  "
      ]
     },
     "execution_count": 27,
     "metadata": {},
     "output_type": "execute_result"
    }
   ],
   "source": [
    "# 1. Return all rows occuring in Alabama\n",
    "df.loc[df['state'] == 'Alabama']"
   ]
  },
  {
   "cell_type": "code",
   "execution_count": 28,
   "metadata": {
    "collapsed": false,
    "deletable": true,
    "editable": true
   },
   "outputs": [
    {
     "data": {
      "text/html": [
       "<div>\n",
       "<table border=\"1\" class=\"dataframe\">\n",
       "  <thead>\n",
       "    <tr style=\"text-align: right;\">\n",
       "      <th></th>\n",
       "      <th>date</th>\n",
       "      <th>state</th>\n",
       "      <th>city_or_county</th>\n",
       "      <th>address</th>\n",
       "      <th>num_killed</th>\n",
       "      <th>num_injured</th>\n",
       "      <th>month</th>\n",
       "      <th>num_casualties</th>\n",
       "    </tr>\n",
       "  </thead>\n",
       "  <tbody>\n",
       "    <tr>\n",
       "      <th>18</th>\n",
       "      <td>2015-12-02</td>\n",
       "      <td>California</td>\n",
       "      <td>San Bernardino</td>\n",
       "      <td>1365 South Waterman Avenue</td>\n",
       "      <td>16</td>\n",
       "      <td>19</td>\n",
       "      <td>12</td>\n",
       "      <td>35</td>\n",
       "    </tr>\n",
       "    <tr>\n",
       "      <th>66</th>\n",
       "      <td>2015-10-01</td>\n",
       "      <td>Oregon</td>\n",
       "      <td>Roseburg</td>\n",
       "      <td>1140 Umpqua College Rd</td>\n",
       "      <td>10</td>\n",
       "      <td>9</td>\n",
       "      <td>10</td>\n",
       "      <td>19</td>\n",
       "    </tr>\n",
       "    <tr>\n",
       "      <th>83</th>\n",
       "      <td>2015-09-17</td>\n",
       "      <td>South Dakota</td>\n",
       "      <td>Platte</td>\n",
       "      <td>36705 379th Street</td>\n",
       "      <td>6</td>\n",
       "      <td>0</td>\n",
       "      <td>9</td>\n",
       "      <td>6</td>\n",
       "    </tr>\n",
       "    <tr>\n",
       "      <th>128</th>\n",
       "      <td>2015-08-08</td>\n",
       "      <td>Texas</td>\n",
       "      <td>Houston</td>\n",
       "      <td>2211 Falling Oaks</td>\n",
       "      <td>8</td>\n",
       "      <td>0</td>\n",
       "      <td>8</td>\n",
       "      <td>8</td>\n",
       "    </tr>\n",
       "    <tr>\n",
       "      <th>159</th>\n",
       "      <td>2015-07-16</td>\n",
       "      <td>Tennessee</td>\n",
       "      <td>Chattanooga</td>\n",
       "      <td>4051 Amnicola Highway</td>\n",
       "      <td>6</td>\n",
       "      <td>2</td>\n",
       "      <td>7</td>\n",
       "      <td>8</td>\n",
       "    </tr>\n",
       "    <tr>\n",
       "      <th>195</th>\n",
       "      <td>2015-06-17</td>\n",
       "      <td>South Carolina</td>\n",
       "      <td>Charleston</td>\n",
       "      <td>110 Calhoun Street</td>\n",
       "      <td>9</td>\n",
       "      <td>0</td>\n",
       "      <td>6</td>\n",
       "      <td>9</td>\n",
       "    </tr>\n",
       "    <tr>\n",
       "      <th>235</th>\n",
       "      <td>2015-05-17</td>\n",
       "      <td>Texas</td>\n",
       "      <td>Waco</td>\n",
       "      <td>4671 S Jack Kultgen Expy</td>\n",
       "      <td>9</td>\n",
       "      <td>18</td>\n",
       "      <td>5</td>\n",
       "      <td>27</td>\n",
       "    </tr>\n",
       "    <tr>\n",
       "      <th>292</th>\n",
       "      <td>2015-02-26</td>\n",
       "      <td>Missouri</td>\n",
       "      <td>Tyrone</td>\n",
       "      <td>18279 Highway H</td>\n",
       "      <td>8</td>\n",
       "      <td>1</td>\n",
       "      <td>2</td>\n",
       "      <td>9</td>\n",
       "    </tr>\n",
       "  </tbody>\n",
       "</table>\n",
       "</div>"
      ],
      "text/plain": [
       "          date           state  city_or_county                     address  \\\n",
       "18  2015-12-02      California  San Bernardino  1365 South Waterman Avenue   \n",
       "66  2015-10-01          Oregon        Roseburg      1140 Umpqua College Rd   \n",
       "83  2015-09-17    South Dakota          Platte          36705 379th Street   \n",
       "128 2015-08-08           Texas         Houston           2211 Falling Oaks   \n",
       "159 2015-07-16       Tennessee     Chattanooga       4051 Amnicola Highway   \n",
       "195 2015-06-17  South Carolina      Charleston          110 Calhoun Street   \n",
       "235 2015-05-17           Texas            Waco    4671 S Jack Kultgen Expy   \n",
       "292 2015-02-26        Missouri          Tyrone             18279 Highway H   \n",
       "\n",
       "     num_killed  num_injured  month  num_casualties  \n",
       "18           16           19     12              35  \n",
       "66           10            9     10              19  \n",
       "83            6            0      9               6  \n",
       "128           8            0      8               8  \n",
       "159           6            2      7               8  \n",
       "195           9            0      6               9  \n",
       "235           9           18      5              27  \n",
       "292           8            1      2               9  "
      ]
     },
     "execution_count": 28,
     "metadata": {},
     "output_type": "execute_result"
    }
   ],
   "source": [
    "# 2. Return all shootings with more than 5 people killed\n",
    "df.loc[df['num_killed'] > 5]"
   ]
  },
  {
   "cell_type": "code",
   "execution_count": 29,
   "metadata": {
    "collapsed": false,
    "deletable": true,
    "editable": true
   },
   "outputs": [
    {
     "data": {
      "text/plain": [
       "0                           1900 block of Amelia Street\n",
       "1                                         North Parkway\n",
       "2                                    4210 Macalester St\n",
       "3                                   Franklin and Odessa\n",
       "4                                  785 Schillinger Rd S\n",
       "5                       14600 block of East 14th Street\n",
       "6                                11th and Castle Street\n",
       "7                          21630 Southwest 120th Avenue\n",
       "8     Northeast Seventh Avenue and Northeast 166th S...\n",
       "9                                      307 Jefferson St\n",
       "10                                5550 S. Flower Street\n",
       "11                          17000 block of Keelson Lane\n",
       "12                                      Whitaker Street\n",
       "13                    5100 block of Park Heights Avenue\n",
       "14                       200 Block of  Brownsville Road\n",
       "15                       2300 block of Baltimore Avenue\n",
       "16                                        Market Street\n",
       "17                 North 108th Street and Military Road\n",
       "18                           1365 South Waterman Avenue\n",
       "19                        100 block of West 33rd Street\n",
       "20                                      648 E. Court St\n",
       "21                                 3480 Centennial Blvd\n",
       "22                            7900 block of Florin Road\n",
       "23                                  1321 Colletta Court\n",
       "24                        90 block of S. Terrace Avenue\n",
       "25                                  Morgan Avenue North\n",
       "26                                 1800 Block of FM 802\n",
       "27                                    Broadway and Pike\n",
       "28                         1900 block of Gallier Street\n",
       "29                                         203 Broadway\n",
       "30                                          Park Circle\n",
       "31                         4100 block of West Roosevelt\n",
       "32                                  Stricker and School\n",
       "33                                       Prospect Drive\n",
       "34    California Avenue and Martin Luther King Jr. B...\n",
       "35                        1400 block of County Road 664\n",
       "36                        800 Block of County Road 2217\n",
       "37                       5600 block of Blakemore Street\n",
       "38                                         1159 Main St\n",
       "39               1300 block of South Shirley Oaks Drive\n",
       "40                       400 block of North Beville Ave\n",
       "41                                    13859 8 Mile Road\n",
       "42                                    4397 NW 6th Drive\n",
       "43                                   Bayaud and Bannock\n",
       "44                            1000 block of Feliz Drive\n",
       "45                           Ella Street and Kings Road\n",
       "46                                     2217 Refuge Road\n",
       "Name: address, dtype: object"
      ]
     },
     "execution_count": 29,
     "metadata": {},
     "output_type": "execute_result"
    }
   ],
   "source": [
    "# 3. Return the address of shootings occuring on or after November 1st\n",
    "df.loc[df['date'] >= '2015-11-01', 'address']"
   ]
  },
  {
   "cell_type": "code",
   "execution_count": 30,
   "metadata": {
    "collapsed": false,
    "deletable": true,
    "editable": true
   },
   "outputs": [
    {
     "data": {
      "text/html": [
       "<div>\n",
       "<table border=\"1\" class=\"dataframe\">\n",
       "  <thead>\n",
       "    <tr style=\"text-align: right;\">\n",
       "      <th></th>\n",
       "      <th>date</th>\n",
       "      <th>address</th>\n",
       "    </tr>\n",
       "  </thead>\n",
       "  <tbody>\n",
       "    <tr>\n",
       "      <th>86</th>\n",
       "      <td>2015-09-13</td>\n",
       "      <td>1910 South Pine Avenue</td>\n",
       "    </tr>\n",
       "    <tr>\n",
       "      <th>172</th>\n",
       "      <td>2015-07-05</td>\n",
       "      <td>3500 block of Hearne Avenue</td>\n",
       "    </tr>\n",
       "    <tr>\n",
       "      <th>271</th>\n",
       "      <td>2015-03-27</td>\n",
       "      <td>5312 Thomas Drive</td>\n",
       "    </tr>\n",
       "  </tbody>\n",
       "</table>\n",
       "</div>"
      ],
      "text/plain": [
       "          date                      address\n",
       "86  2015-09-13       1910 South Pine Avenue\n",
       "172 2015-07-05  3500 block of Hearne Avenue\n",
       "271 2015-03-27            5312 Thomas Drive"
      ]
     },
     "execution_count": 30,
     "metadata": {},
     "output_type": "execute_result"
    }
   ],
   "source": [
    "# 4. Return the address and date of all shootings occuring in Louisiana or Florida \n",
    "#    with the casualty counts ranging from 6 to 10 (inclusive) \n",
    "df.loc[(df['state'].isin(['Louisiana', 'Florida'])) & (df['num_casualties'] >= 6) & \\\n",
    "       (df['num_casualties'] <= 10), ['date', 'address']]"
   ]
  },
  {
   "cell_type": "markdown",
   "metadata": {
    "deletable": true,
    "editable": true
   },
   "source": [
    "## 11. Sort by Date and reset index\n",
    "\n",
    "Let's reorder our Dataframe based on the date and reset our index to reflect this.\n",
    "\n",
    "NOTE: Don't use `df.sort()` as this method is deprecated!  Instead you should be using `df.sort_values()`"
   ]
  },
  {
   "cell_type": "code",
   "execution_count": 31,
   "metadata": {
    "collapsed": false,
    "deletable": true,
    "editable": true
   },
   "outputs": [
    {
     "data": {
      "text/html": [
       "<div>\n",
       "<table border=\"1\" class=\"dataframe\">\n",
       "  <thead>\n",
       "    <tr style=\"text-align: right;\">\n",
       "      <th></th>\n",
       "      <th>date</th>\n",
       "      <th>state</th>\n",
       "      <th>city_or_county</th>\n",
       "      <th>address</th>\n",
       "      <th>num_killed</th>\n",
       "      <th>num_injured</th>\n",
       "      <th>month</th>\n",
       "      <th>num_casualties</th>\n",
       "    </tr>\n",
       "  </thead>\n",
       "  <tbody>\n",
       "    <tr>\n",
       "      <th>329</th>\n",
       "      <td>2015-01-01</td>\n",
       "      <td>Tennessee</td>\n",
       "      <td>Memphis</td>\n",
       "      <td>Interstate 240 and Poplar Avenue</td>\n",
       "      <td>0</td>\n",
       "      <td>5</td>\n",
       "      <td>1</td>\n",
       "      <td>5</td>\n",
       "    </tr>\n",
       "    <tr>\n",
       "      <th>328</th>\n",
       "      <td>2015-01-02</td>\n",
       "      <td>Georgia</td>\n",
       "      <td>Savannah</td>\n",
       "      <td>500 block of W. 54th Street</td>\n",
       "      <td>1</td>\n",
       "      <td>4</td>\n",
       "      <td>1</td>\n",
       "      <td>5</td>\n",
       "    </tr>\n",
       "    <tr>\n",
       "      <th>326</th>\n",
       "      <td>2015-01-04</td>\n",
       "      <td>Virginia</td>\n",
       "      <td>Roanoke</td>\n",
       "      <td>3634 Shenandoah Ave NW</td>\n",
       "      <td>2</td>\n",
       "      <td>4</td>\n",
       "      <td>1</td>\n",
       "      <td>6</td>\n",
       "    </tr>\n",
       "    <tr>\n",
       "      <th>327</th>\n",
       "      <td>2015-01-04</td>\n",
       "      <td>Texas</td>\n",
       "      <td>Dallas</td>\n",
       "      <td>2000 block of Ben Hur St.</td>\n",
       "      <td>3</td>\n",
       "      <td>1</td>\n",
       "      <td>1</td>\n",
       "      <td>4</td>\n",
       "    </tr>\n",
       "    <tr>\n",
       "      <th>325</th>\n",
       "      <td>2015-01-06</td>\n",
       "      <td>Florida</td>\n",
       "      <td>Miami</td>\n",
       "      <td>1300 block of NW 62nd Street</td>\n",
       "      <td>1</td>\n",
       "      <td>3</td>\n",
       "      <td>1</td>\n",
       "      <td>4</td>\n",
       "    </tr>\n",
       "  </tbody>\n",
       "</table>\n",
       "</div>"
      ],
      "text/plain": [
       "          date      state city_or_county                           address  \\\n",
       "329 2015-01-01  Tennessee        Memphis  Interstate 240 and Poplar Avenue   \n",
       "328 2015-01-02    Georgia       Savannah       500 block of W. 54th Street   \n",
       "326 2015-01-04   Virginia        Roanoke            3634 Shenandoah Ave NW   \n",
       "327 2015-01-04      Texas         Dallas         2000 block of Ben Hur St.   \n",
       "325 2015-01-06    Florida          Miami      1300 block of NW 62nd Street   \n",
       "\n",
       "     num_killed  num_injured  month  num_casualties  \n",
       "329           0            5      1               5  \n",
       "328           1            4      1               5  \n",
       "326           2            4      1               6  \n",
       "327           3            1      1               4  \n",
       "325           1            3      1               4  "
      ]
     },
     "execution_count": 31,
     "metadata": {},
     "output_type": "execute_result"
    }
   ],
   "source": [
    "df.sort_values(by='date', inplace=True)\n",
    "df.head()"
   ]
  },
  {
   "cell_type": "code",
   "execution_count": 32,
   "metadata": {
    "collapsed": false,
    "deletable": true,
    "editable": true
   },
   "outputs": [
    {
     "data": {
      "text/html": [
       "<div>\n",
       "<table border=\"1\" class=\"dataframe\">\n",
       "  <thead>\n",
       "    <tr style=\"text-align: right;\">\n",
       "      <th></th>\n",
       "      <th>date</th>\n",
       "      <th>state</th>\n",
       "      <th>city_or_county</th>\n",
       "      <th>address</th>\n",
       "      <th>num_killed</th>\n",
       "      <th>num_injured</th>\n",
       "      <th>month</th>\n",
       "      <th>num_casualties</th>\n",
       "    </tr>\n",
       "  </thead>\n",
       "  <tbody>\n",
       "    <tr>\n",
       "      <th>0</th>\n",
       "      <td>2015-01-01</td>\n",
       "      <td>Tennessee</td>\n",
       "      <td>Memphis</td>\n",
       "      <td>Interstate 240 and Poplar Avenue</td>\n",
       "      <td>0</td>\n",
       "      <td>5</td>\n",
       "      <td>1</td>\n",
       "      <td>5</td>\n",
       "    </tr>\n",
       "    <tr>\n",
       "      <th>1</th>\n",
       "      <td>2015-01-02</td>\n",
       "      <td>Georgia</td>\n",
       "      <td>Savannah</td>\n",
       "      <td>500 block of W. 54th Street</td>\n",
       "      <td>1</td>\n",
       "      <td>4</td>\n",
       "      <td>1</td>\n",
       "      <td>5</td>\n",
       "    </tr>\n",
       "    <tr>\n",
       "      <th>2</th>\n",
       "      <td>2015-01-04</td>\n",
       "      <td>Virginia</td>\n",
       "      <td>Roanoke</td>\n",
       "      <td>3634 Shenandoah Ave NW</td>\n",
       "      <td>2</td>\n",
       "      <td>4</td>\n",
       "      <td>1</td>\n",
       "      <td>6</td>\n",
       "    </tr>\n",
       "    <tr>\n",
       "      <th>3</th>\n",
       "      <td>2015-01-04</td>\n",
       "      <td>Texas</td>\n",
       "      <td>Dallas</td>\n",
       "      <td>2000 block of Ben Hur St.</td>\n",
       "      <td>3</td>\n",
       "      <td>1</td>\n",
       "      <td>1</td>\n",
       "      <td>4</td>\n",
       "    </tr>\n",
       "    <tr>\n",
       "      <th>4</th>\n",
       "      <td>2015-01-06</td>\n",
       "      <td>Florida</td>\n",
       "      <td>Miami</td>\n",
       "      <td>1300 block of NW 62nd Street</td>\n",
       "      <td>1</td>\n",
       "      <td>3</td>\n",
       "      <td>1</td>\n",
       "      <td>4</td>\n",
       "    </tr>\n",
       "  </tbody>\n",
       "</table>\n",
       "</div>"
      ],
      "text/plain": [
       "        date      state city_or_county                           address  \\\n",
       "0 2015-01-01  Tennessee        Memphis  Interstate 240 and Poplar Avenue   \n",
       "1 2015-01-02    Georgia       Savannah       500 block of W. 54th Street   \n",
       "2 2015-01-04   Virginia        Roanoke            3634 Shenandoah Ave NW   \n",
       "3 2015-01-04      Texas         Dallas         2000 block of Ben Hur St.   \n",
       "4 2015-01-06    Florida          Miami      1300 block of NW 62nd Street   \n",
       "\n",
       "   num_killed  num_injured  month  num_casualties  \n",
       "0           0            5      1               5  \n",
       "1           1            4      1               5  \n",
       "2           2            4      1               6  \n",
       "3           3            1      1               4  \n",
       "4           1            3      1               4  "
      ]
     },
     "execution_count": 32,
     "metadata": {},
     "output_type": "execute_result"
    }
   ],
   "source": [
    "df.reset_index(drop=True, inplace=True)\n",
    "df.head()"
   ]
  },
  {
   "cell_type": "markdown",
   "metadata": {
    "deletable": true,
    "editable": true
   },
   "source": [
    "## EXTRA CREDIT:  Create a graph showing the weekly frequency of shootings\n",
    "HINT: Set the index as the date and refer to http://pandas.pydata.org/pandas-docs/stable/generated/pandas.DataFrame.resample.html"
   ]
  },
  {
   "cell_type": "code",
   "execution_count": 33,
   "metadata": {
    "collapsed": true,
    "deletable": true,
    "editable": true
   },
   "outputs": [],
   "source": [
    "import matplotlib.pyplot as plt\n",
    "plt.style.use('ggplot')\n",
    "%matplotlib inline"
   ]
  },
  {
   "cell_type": "code",
   "execution_count": 34,
   "metadata": {
    "collapsed": false,
    "deletable": true,
    "editable": true
   },
   "outputs": [
    {
     "data": {
      "text/plain": [
       "<matplotlib.axes._subplots.AxesSubplot at 0x10afdfda0>"
      ]
     },
     "execution_count": 34,
     "metadata": {},
     "output_type": "execute_result"
    },
    {
     "data": {
      "image/png": "[encoded data removed]",
      "text/plain": [
       "<matplotlib.figure.Figure at 0x10afdf2e8>"
      ]
     },
     "metadata": {},
     "output_type": "display_data"
    }
   ],
   "source": [
    "ts = pd.Series([1], index=df['date']).resample('W').sum()\n",
    "ts.plot()"
   ]
  },
  {
   "cell_type": "code",
   "execution_count": 35,
   "metadata": {
    "collapsed": false,
    "deletable": true,
    "editable": true
   },
   "outputs": [
    {
     "data": {
      "text/plain": [
       "<matplotlib.axes._subplots.AxesSubplot at 0x10e417198>"
      ]
     },
     "execution_count": 35,
     "metadata": {},
     "output_type": "execute_result"
    },
    {
     "data": {
      "image/png": "[encoded data removed]",
      "text/plain": [
       "<matplotlib.figure.Figure at 0x10e3b85c0>"
      ]
     },
     "metadata": {},
     "output_type": "display_data"
    }
   ],
   "source": [
    "df.set_index('date').resample('W').sum()['num_casualties'].plot()"
   ]
  },
  {
   "cell_type": "code",
   "execution_count": null,
   "metadata": {
    "collapsed": true,
    "deletable": true,
    "editable": true
   },
   "outputs": [],
   "source": []
  }
 ],
 "metadata": {
  "kernelspec": {
   "display_name": "Python 3",
   "language": "python",
   "name": "python3"
  },
  "language_info": {
   "codemirror_mode": {
    "name": "ipython",
    "version": 3
   },
   "file_extension": ".py",
   "mimetype": "text/x-python",
   "name": "python",
   "nbconvert_exporter": "python",
   "pygments_lexer": "ipython3",
   "version": "3.6.0"
  }
 },
 "nbformat": 4,
 "nbformat_minor": 1
}
